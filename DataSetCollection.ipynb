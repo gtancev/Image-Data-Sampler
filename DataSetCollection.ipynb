{
 "cells": [
  {
   "cell_type": "code",
   "execution_count": 7,
   "metadata": {},
   "outputs": [],
   "source": [
    "import DataSetCollection as dsc\n",
    "import matplotlib.pyplot as plt"
   ]
  },
  {
   "cell_type": "code",
   "execution_count": 2,
   "metadata": {},
   "outputs": [],
   "source": [
    "w = [80, 80, 80]\n",
    "p = [5, 5, 5]\n",
    "location = '/scicore/home/scicore/rumoke43/mdgru_hpc/files'\n",
    "folder = 'train'\n",
    "files = ['flair_pp.nii', 'mprage_pp.nii', 'pd_pp.nii', 't2_pp.nii']\n",
    "mask = ['mask.nii']\n",
    "nclasses = 2"
   ]
  },
  {
   "cell_type": "code",
   "execution_count": 3,
   "metadata": {},
   "outputs": [],
   "source": [
    "threaded_data_instance = dsc.ThreadedDataSetCollection(w, p, location, folder, files, mask, nclasses)"
   ]
  },
  {
   "cell_type": "code",
   "execution_count": 4,
   "metadata": {},
   "outputs": [],
   "source": [
    "batch, batchlabs = threaded_data_instance.random_sample()"
   ]
  },
  {
   "cell_type": "code",
   "execution_count": 21,
   "metadata": {},
   "outputs": [],
   "source": [
    "fig = plt.figure(figsize=(2.95,2.95))\n",
    "ax = plt.subplot(1,1,1)\n",
    "ax.set_xticks(())\n",
    "ax.set_yticks(())\n",
    "ax.imshow(batch[0,:,:,40,4],cmap=plt.cm.gray,aspect='equal')\n",
    "plt.savefig('sample_batch',dpi=600,transparent=True,orientation='landscape',bbox_inches='tight')\n",
    "plt.show()"
   ]
  }
 ],
 "metadata": {
  "kernelspec": {
   "display_name": "Python 3",
   "language": "python",
   "name": "python3"
  },
  "language_info": {
   "codemirror_mode": {
    "name": "ipython",
    "version": 3
   },
   "file_extension": ".py",
   "mimetype": "text/x-python",
   "name": "python",
   "nbconvert_exporter": "python",
   "pygments_lexer": "ipython3",
   "version": "3.6.3"
  }
 },
 "nbformat": 4,
 "nbformat_minor": 2
}
